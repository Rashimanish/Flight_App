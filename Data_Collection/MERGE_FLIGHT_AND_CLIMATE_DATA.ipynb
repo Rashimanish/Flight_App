{
  "nbformat": 4,
  "nbformat_minor": 0,
  "metadata": {
    "colab": {
      "provenance": [],
      "authorship_tag": "ABX9TyPw16ZuniFxSKlxrE8jX2/b",
      "include_colab_link": true
    },
    "kernelspec": {
      "name": "python3",
      "display_name": "Python 3"
    },
    "language_info": {
      "name": "python"
    }
  },
  "cells": [
    {
      "cell_type": "markdown",
      "metadata": {
        "id": "view-in-github",
        "colab_type": "text"
      },
      "source": [
        "<a href=\"https://colab.research.google.com/github/Rashimanish/Flight_App/blob/main/Data_Collection/MERGE_FLIGHT_AND_CLIMATE_DATA.ipynb\" target=\"_parent\"><img src=\"https://colab.research.google.com/assets/colab-badge.svg\" alt=\"Open In Colab\"/></a>"
      ]
    },
    {
      "cell_type": "code",
      "execution_count": null,
      "metadata": {
        "colab": {
          "base_uri": "https://localhost:8080/"
        },
        "id": "vXWGP7YL1HgW",
        "outputId": "45a75cfe-ec66-4e0f-e1b1-67ed8cd53051"
      },
      "outputs": [
        {
          "output_type": "stream",
          "name": "stdout",
          "text": [
            "Number of rows: 99435\n",
            "Number of columns: 27\n",
            "      Year  Quarter  Month  DayofMonth FlightDate  OriginAirportID Origin  \\\n",
            "231   2022      1.0    1.0         1.0 2022-01-01          12892.0    LAX   \n",
            "1129  2022      1.0    1.0         1.0 2022-01-01          14771.0    SFO   \n",
            "1130  2022      1.0    1.0         1.0 2022-01-01          12889.0    LAS   \n",
            "229   2022      1.0    1.0         1.0 2022-01-01          14771.0    SFO   \n",
            "230   2022      1.0    1.0         1.0 2022-01-01          12266.0    IAH   \n",
            "\n",
            "      DestAirportID Dest  CRSDepTime  ...  CarrierDelay  WeatherDelay  \\\n",
            "231         14747.0  SEA      1051.0  ...           NaN           NaN   \n",
            "1129        14107.0  PHX      2025.0  ...           NaN           NaN   \n",
            "1130        14771.0  SFO      1100.0  ...           NaN           NaN   \n",
            "229         12892.0  LAX      1906.0  ...           NaN           NaN   \n",
            "230         12892.0  LAX       544.0  ...           NaN           NaN   \n",
            "\n",
            "      NASDelay  SecurityDelay  LateAircraftDelay  Maximum temperature  \\\n",
            "231        NaN            NaN                NaN                   61   \n",
            "1129       NaN            NaN                NaN                   52   \n",
            "1130       NaN            NaN                NaN                   46   \n",
            "229        NaN            NaN                NaN                   52   \n",
            "230        NaN            NaN                NaN                   85   \n",
            "\n",
            "      Minimum temperature  Precipitation  Snowfall  Average wind speed  \n",
            "231                    49            0.0       NaN                6.26  \n",
            "1129                   39            0.0       NaN                3.13  \n",
            "1130                   32            0.0       0.0               12.75  \n",
            "229                    39            0.0       NaN                3.13  \n",
            "230                    66            0.0       0.0                9.40  \n",
            "\n",
            "[5 rows x 27 columns]\n"
          ]
        }
      ],
      "source": [
        "import pandas as pd\n",
        "\n",
        "# Load flight data\n",
        "flight_data = pd.read_csv('/content/Data/combined_flightdata.csv')\n",
        "\n",
        "# Load climate data\n",
        "climate_data = pd.read_csv('/content/Data/climate_data_2223.csv')\n",
        "\n",
        "\n",
        "flight_data['Origin'] = flight_data['Origin'].str.strip().str.upper()\n",
        "climate_data['Airport_Code'] = climate_data['Airport_Code'].str.strip().str.upper()\n",
        "\n",
        "flight_data['FlightDate'] = pd.to_datetime(flight_data['FlightDate'], format='%Y-%m-%d')\n",
        "\n",
        "climate_data['DATE'] = pd.to_datetime(climate_data['DATE'], format='%d/%m/%Y')\n",
        "\n",
        "# Merge the datasets on FlightDate and Origin (which corresponds to Airport_Code in climate_data)\n",
        "merged_data = pd.merge(flight_data, climate_data, left_on=['FlightDate', 'Origin'], right_on=['DATE', 'Airport_Code'], how='left')\n",
        "\n",
        "# Select and reorder columns for the final dataset\n",
        "columns_to_keep = [\n",
        "    'Year', 'Quarter', 'Month', 'DayofMonth', 'FlightDate', 'OriginAirportID', 'Origin', 'DestAirportID', 'Dest',\n",
        "    'CRSDepTime', 'DepTime', 'DepDelayMinutes', 'DepDel15', 'CRSArrTime', 'ArrTime', 'ArrDelayMinutes', 'ArrDel15',\n",
        "    'CarrierDelay', 'WeatherDelay', 'NASDelay', 'SecurityDelay', 'LateAircraftDelay',\n",
        "    'Maximum temperature', 'Minimum temperature', 'Precipitation', 'Snowfall', 'Average wind speed'\n",
        "]\n",
        "final_data = merged_data[columns_to_keep]\n",
        "\n",
        "# Sort the data by FlightDate\n",
        "final_data = final_data.sort_values(by='FlightDate')\n",
        "\n",
        "# Save the merged data\n",
        "output_file_path = '/content/Data/merged_flight_climate_data.csv'\n",
        "final_data.to_csv(output_file_path, index=False)\n",
        "\n",
        "\n",
        "print(f\"Number of rows: {final_data.shape[0]}\")\n",
        "print(f\"Number of columns: {final_data.shape[1]}\")\n",
        "print(final_data.head())\n"
      ]
    }
  ]
}