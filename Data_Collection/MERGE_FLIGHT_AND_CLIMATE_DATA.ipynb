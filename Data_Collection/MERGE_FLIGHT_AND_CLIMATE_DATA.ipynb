{
  "nbformat": 4,
  "nbformat_minor": 0,
  "metadata": {
    "colab": {
      "provenance": [],
      "authorship_tag": "ABX9TyO/yqkEuxOXdKE6P/jFHkjU",
      "include_colab_link": true
    },
    "kernelspec": {
      "name": "python3",
      "display_name": "Python 3"
    },
    "language_info": {
      "name": "python"
    }
  },
  "cells": [
    {
      "cell_type": "markdown",
      "metadata": {
        "id": "view-in-github",
        "colab_type": "text"
      },
      "source": [
        "<a href=\"https://colab.research.google.com/github/Rashimanish/Flight_App/blob/main/Data_Collection/MERGE_FLIGHT_AND_CLIMATE_DATA.ipynb\" target=\"_parent\"><img src=\"https://colab.research.google.com/assets/colab-badge.svg\" alt=\"Open In Colab\"/></a>"
      ]
    },
    {
      "cell_type": "code",
      "execution_count": 4,
      "metadata": {
        "colab": {
          "base_uri": "https://localhost:8080/"
        },
        "id": "vXWGP7YL1HgW",
        "outputId": "9fd2165c-4a22-4c15-9920-b0d8dd5fd598"
      },
      "outputs": [
        {
          "output_type": "stream",
          "name": "stdout",
          "text": [
            "0    1/1/2022 12:00:00 AM\n",
            "1    1/1/2022 12:00:00 AM\n",
            "2    1/1/2022 12:00:00 AM\n",
            "3    1/1/2022 12:00:00 AM\n",
            "4    1/1/2022 12:00:00 AM\n",
            "Name: FL_DATE, dtype: object\n",
            "Number of rows: 1841166\n",
            "Number of columns: 22\n",
            "      YEAR  QUARTER  MONTH  DAY_OF_MONTH    FL_DATE  ORIGIN_AIRPORT_ID ORIGIN  \\\n",
            "0     2022        1      1             1 2022-01-01              10397    ATL   \n",
            "1433  2022        1      1             1 2022-01-01              13204    MCO   \n",
            "1432  2022        1      1             1 2022-01-01              13204    MCO   \n",
            "1431  2022        1      1             1 2022-01-01              13204    MCO   \n",
            "1430  2022        1      1             1 2022-01-01              13204    MCO   \n",
            "\n",
            "      DEST_AIRPORT_ID DEST  CRS_DEP_TIME  ...  DEP_DEL15  CRS_ARR_TIME  \\\n",
            "0               11057  CLT           645  ...        0.0           809   \n",
            "1433            13930  ORD          1429  ...        0.0          1639   \n",
            "1432            13930  ORD          1233  ...        NaN          1436   \n",
            "1431            13930  ORD          1210  ...        0.0          1419   \n",
            "1430            13930  ORD          1117  ...        0.0          1320   \n",
            "\n",
            "      ARR_TIME  ARR_DELAY_NEW  ARR_DEL15  Maximum temperature  \\\n",
            "0        751.0            0.0        0.0                   78   \n",
            "1433    1611.0            0.0        0.0                   84   \n",
            "1432       NaN            NaN        NaN                   84   \n",
            "1431    1348.0            0.0        0.0                   84   \n",
            "1430    1303.0            0.0        0.0                   84   \n",
            "\n",
            "      Minimum temperature  Precipitation  Snowfall  Average wind speed  \n",
            "0                      68           0.06       0.0               11.86  \n",
            "1433                   65           0.00       0.0                7.61  \n",
            "1432                   65           0.00       0.0                7.61  \n",
            "1431                   65           0.00       0.0                7.61  \n",
            "1430                   65           0.00       0.0                7.61  \n",
            "\n",
            "[5 rows x 22 columns]\n"
          ]
        }
      ],
      "source": [
        "import pandas as pd\n",
        "\n",
        "# Load flight data\n",
        "flight_data = pd.read_csv('/content/Data/combined_flightdata.csv')\n",
        "\n",
        "# Load climate data\n",
        "climate_data = pd.read_csv('/content/Data/climate_data_2223.csv')\n",
        "\n",
        "# Strip and convert to uppercase\n",
        "flight_data['ORIGIN'] = flight_data['ORIGIN'].str.strip().str.upper()\n",
        "climate_data['Airport_Code'] = climate_data['Airport_Code'].str.strip().str.upper()\n",
        "\n",
        "# Inspect the date format in flight_data\n",
        "print(flight_data['FL_DATE'].head())\n",
        "\n",
        "# Convert date columns to datetime\n",
        "flight_data['FL_DATE'] = pd.to_datetime(flight_data['FL_DATE'], format='%m/%d/%Y %I:%M:%S %p')\n",
        "climate_data['DATE'] = pd.to_datetime(climate_data['DATE'], format='%d/%m/%Y')\n",
        "\n",
        "# Merge the datasets on FlightDate and Origin\n",
        "merged_data = pd.merge(flight_data, climate_data, left_on=['FL_DATE', 'ORIGIN'], right_on=['DATE', 'Airport_Code'], how='left')\n",
        "\n",
        "# Columns to keep\n",
        "columns_to_keep = [\n",
        "    'YEAR', 'QUARTER', 'MONTH', 'DAY_OF_MONTH', 'FL_DATE', 'ORIGIN_AIRPORT_ID', 'ORIGIN', 'DEST_AIRPORT_ID', 'DEST',\n",
        "    'CRS_DEP_TIME', 'DEP_TIME', 'DEP_DELAY_NEW', 'DEP_DEL15', 'CRS_ARR_TIME', 'ARR_TIME', 'ARR_DELAY_NEW', 'ARR_DEL15',\n",
        "    'Maximum temperature', 'Minimum temperature', 'Precipitation', 'Snowfall', 'Average wind speed'\n",
        "]\n",
        "\n",
        "# Select and sort the data\n",
        "final_data = merged_data[columns_to_keep]\n",
        "final_data = final_data.sort_values(by='FL_DATE')\n",
        "\n",
        "# Save the merged data\n",
        "output_file_path = '/content/Data/merged_flight_climate_data.csv'\n",
        "final_data.to_csv(output_file_path, index=False)\n",
        "\n",
        "print(f\"Number of rows: {final_data.shape[0]}\")\n",
        "print(f\"Number of columns: {final_data.shape[1]}\")\n",
        "print(final_data.head())\n"
      ]
    }
  ]
}