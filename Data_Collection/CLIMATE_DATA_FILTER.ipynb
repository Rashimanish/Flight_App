{
  "nbformat": 4,
  "nbformat_minor": 0,
  "metadata": {
    "colab": {
      "provenance": [],
      "authorship_tag": "ABX9TyMZFpe9kv3xoPsbksIodIso",
      "include_colab_link": true
    },
    "kernelspec": {
      "name": "python3",
      "display_name": "Python 3"
    },
    "language_info": {
      "name": "python"
    }
  },
  "cells": [
    {
      "cell_type": "markdown",
      "metadata": {
        "id": "view-in-github",
        "colab_type": "text"
      },
      "source": [
        "<a href=\"https://colab.research.google.com/github/Rashimanish/Flight_App/blob/main/Data_Collection/CLIMATE_DATA_FILTER.ipynb\" target=\"_parent\"><img src=\"https://colab.research.google.com/assets/colab-badge.svg\" alt=\"Open In Colab\"/></a>"
      ]
    },
    {
      "cell_type": "code",
      "execution_count": null,
      "metadata": {
        "colab": {
          "base_uri": "https://localhost:8080/"
        },
        "id": "7JWyk6_I282P",
        "outputId": "f0f01c8f-2b0d-4772-b43a-11bde9fa0b03"
      },
      "outputs": [
        {
          "output_type": "stream",
          "name": "stdout",
          "text": [
            "Number of rows: 10950\n",
            "Number of columns: 7\n",
            "  Airport_Code        DATE  Maximum temperature  Minimum temperature  \\\n",
            "0          ORD  01/01/2022                   38                   24   \n",
            "1          ORD  02/01/2022                   28                   13   \n",
            "2          ORD  03/01/2022                   22                    9   \n",
            "3          ORD  04/01/2022                   35                   22   \n",
            "4          ORD  05/01/2022                   34                   12   \n",
            "\n",
            "   Precipitation  Snowfall  Average wind speed  \n",
            "0           0.23       3.2               19.69  \n",
            "1           0.04       0.9                9.62  \n",
            "2           0.00       0.0                8.50  \n",
            "3           0.00       0.0               12.97  \n",
            "4           0.00       0.1               19.01  \n"
          ]
        }
      ],
      "source": [
        "import pandas as pd\n",
        "\n",
        "# Load the climate data CSV file\n",
        "file_path = '/content/CLIMATE/climate_data.csv'\n",
        "climate_data = pd.read_csv(file_path)\n",
        "\n",
        "# Rename columns\n",
        "climate_data.rename(columns={\n",
        "    'TMAX': 'Maximum temperature',\n",
        "    'TMIN': 'Minimum temperature',\n",
        "    'PRCP': 'Precipitation',\n",
        "    'SNOW': 'Snowfall',\n",
        "    'AWND': 'Average wind speed'\n",
        "}, inplace=True)\n",
        "\n",
        "# Airport name to three-letter code mapping\n",
        "airport_mapping = {\n",
        "    'CHICAGO OHARE INTERNATIONAL AIRPORT, IL US': 'ORD',\n",
        "    'NEWARK LIBERTY INTERNATIONAL AIRPORT, NJ US': 'EWR',\n",
        "    'ATLANTA HARTSFIELD JACKSON INTERNATIONAL AIRPORT, GA US': 'ATL',\n",
        "    'HOUSTON INTERCONTINENTAL AIRPORT, TX US': 'IAH',\n",
        "    'DALLAS FAA AIRPORT, TX US': 'DFW',\n",
        "    'JFK INTERNATIONAL AIRPORT, NY US': 'JFK',\n",
        "    'CHARLOTTE DOUGLAS AIRPORT, NC US': 'CLT',\n",
        "    'MIAMI INTERNATIONAL AIRPORT, FL US': 'MIA',\n",
        "    'PHOENIX AIRPORT, AZ US': 'PHX',\n",
        "    'ORLANDO INTERNATIONAL AIRPORT, FL US': 'MCO',\n",
        "    'LOS ANGELES INTERNATIONAL AIRPORT, CA US': 'LAX',\n",
        "    'DENVER INTERNATIONAL AIRPORT, CO US': 'DEN',\n",
        "    'MCCARRAN INTERNATIONAL AIRPORT, NV US': 'LAS',\n",
        "    'SEATTLE TACOMA AIRPORT, WA US': 'SEA',\n",
        "    'SAN FRANCISCO INTERNATIONAL AIRPORT, CA US': 'SFO'\n",
        "}\n",
        "\n",
        "\n",
        "climate_data['Airport_Code'] = climate_data['NAME'].map(airport_mapping)\n",
        "\n",
        "# Filter the data to include only the relevant airports\n",
        "airports = ['ATL', 'CLT', 'DEN', 'DFW', 'EWR', 'IAH', 'JFK', 'LAS', 'LAX', 'MCO', 'MIA', 'ORD', 'PHX', 'SEA', 'SFO']\n",
        "filtered_data = climate_data[climate_data['Airport_Code'].isin(airports)]\n",
        "\n",
        "# Select only the relevant columns, including DATE\n",
        "columns = ['Airport_Code', 'DATE', 'Maximum temperature', 'Minimum temperature', 'Precipitation', 'Snowfall', 'Average wind speed']\n",
        "filtered_data = filtered_data[columns]\n",
        "\n",
        "\n",
        "print(f\"Number of rows: {filtered_data.shape[0]}\")\n",
        "print(f\"Number of columns: {filtered_data.shape[1]}\")\n",
        "\n",
        "\n",
        "print(filtered_data.head())\n",
        "\n",
        "# Save the filtered data\n",
        "output_file_path = '/content/CLIMATE/climate_data_2223.csv'\n",
        "filtered_data.to_csv(output_file_path, index=False)\n"
      ]
    }
  ]
}